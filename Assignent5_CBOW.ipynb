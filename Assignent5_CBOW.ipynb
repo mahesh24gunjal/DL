{
 "cells": [
  {
   "cell_type": "code",
   "execution_count": 11,
   "id": "7d8062be",
   "metadata": {},
   "outputs": [],
   "source": [
    "import pandas as pd\n",
    "import numpy as np\n",
    "import gensim\n",
    "import os\n"
   ]
  },
  {
   "cell_type": "code",
   "execution_count": 12,
   "id": "a187cefc",
   "metadata": {},
   "outputs": [],
   "source": [
    "from nltk import sent_tokenize\n",
    "from gensim.utils import simple_preprocess"
   ]
  },
  {
   "cell_type": "code",
   "execution_count": 14,
   "id": "2dbd5166",
   "metadata": {},
   "outputs": [
    {
     "ename": "FileNotFoundError",
     "evalue": "[WinError 3] The system cannot find the path specified: 'data'",
     "output_type": "error",
     "traceback": [
      "\u001b[1;31m---------------------------------------------------------------------------\u001b[0m",
      "\u001b[1;31mFileNotFoundError\u001b[0m                         Traceback (most recent call last)",
      "\u001b[1;32m~\\AppData\\Local\\Temp\\ipykernel_11980\\2628997260.py\u001b[0m in \u001b[0;36m<module>\u001b[1;34m\u001b[0m\n\u001b[0;32m      1\u001b[0m \u001b[0mstory\u001b[0m \u001b[1;33m=\u001b[0m \u001b[1;33m[\u001b[0m\u001b[1;33m]\u001b[0m\u001b[1;33m\u001b[0m\u001b[1;33m\u001b[0m\u001b[0m\n\u001b[0;32m      2\u001b[0m \u001b[1;33m\u001b[0m\u001b[0m\n\u001b[1;32m----> 3\u001b[1;33m \u001b[1;32mfor\u001b[0m \u001b[0mfilename\u001b[0m \u001b[1;32min\u001b[0m \u001b[0mos\u001b[0m\u001b[1;33m.\u001b[0m\u001b[0mlistdir\u001b[0m\u001b[1;33m(\u001b[0m\u001b[1;34m'data'\u001b[0m\u001b[1;33m)\u001b[0m\u001b[1;33m:\u001b[0m  \u001b[1;31m#here we fetched every file in data in the filename variable\u001b[0m\u001b[1;33m\u001b[0m\u001b[1;33m\u001b[0m\u001b[0m\n\u001b[0m\u001b[0;32m      4\u001b[0m     \u001b[0mf\u001b[0m\u001b[1;33m=\u001b[0m\u001b[0mopen\u001b[0m\u001b[1;33m(\u001b[0m\u001b[0mos\u001b[0m\u001b[1;33m.\u001b[0m\u001b[0mpath\u001b[0m\u001b[1;33m.\u001b[0m\u001b[0mjoin\u001b[0m\u001b[1;33m(\u001b[0m\u001b[1;34m'data'\u001b[0m\u001b[1;33m,\u001b[0m\u001b[0mfilename\u001b[0m\u001b[1;33m)\u001b[0m\u001b[1;33m)\u001b[0m \u001b[1;31m#here we joined the paths of file and then we opened the file\u001b[0m\u001b[1;33m\u001b[0m\u001b[1;33m\u001b[0m\u001b[0m\n\u001b[0;32m      5\u001b[0m     \u001b[0mcorpus\u001b[0m \u001b[1;33m=\u001b[0m \u001b[0mf\u001b[0m\u001b[1;33m.\u001b[0m\u001b[0mread\u001b[0m\u001b[1;33m(\u001b[0m\u001b[1;33m)\u001b[0m \u001b[1;31m#here we read the opened file and saved the context in the corpus variable\u001b[0m\u001b[1;33m\u001b[0m\u001b[1;33m\u001b[0m\u001b[0m\n",
      "\u001b[1;31mFileNotFoundError\u001b[0m: [WinError 3] The system cannot find the path specified: 'data'"
     ]
    }
   ],
   "source": [
    "story = []\n",
    "\n",
    "for filename in os.listdir('data'):  #here we fetched every file in data in the filename variable\n",
    "    f=open(os.path.join('data',filename)) #here we joined the paths of file and then we opened the file\n",
    "    corpus = f.read() #here we read the opened file and saved the context in the corpus variable\n",
    "    raw_sent = sent_tokenize(corpus) #we converted the corpus into sentences and seprated it\n",
    "    for sent in raw_sent:\n",
    "        story.append(simple_preprocess(sent)) #This lowercases, tokenizes.\n",
    "        #the output are unicode strings, that won’t be processed any further."
   ]
  },
  {
   "cell_type": "code",
   "execution_count": 3,
   "id": "00b62c04",
   "metadata": {},
   "outputs": [
    {
     "name": "stdout",
     "output_type": "stream",
     "text": [
      "Collecting nltk\n",
      "  Downloading nltk-3.7-py3-none-any.whl (1.5 MB)\n",
      "     ---------------------------------------- 1.5/1.5 MB 604.6 kB/s eta 0:00:00\n",
      "Collecting regex>=2021.8.3\n",
      "  Downloading regex-2022.10.31-cp37-cp37m-win_amd64.whl (268 kB)\n",
      "     ------------------------------------ 268.0/268.0 kB 969.0 kB/s eta 0:00:00\n",
      "Requirement already satisfied: joblib in c:\\users\\asus\\appdata\\local\\programs\\python\\python37\\lib\\site-packages (from nltk) (1.1.0)\n",
      "Requirement already satisfied: click in c:\\users\\asus\\appdata\\local\\programs\\python\\python37\\lib\\site-packages (from nltk) (8.0.4)\n",
      "Requirement already satisfied: tqdm in c:\\users\\asus\\appdata\\local\\programs\\python\\python37\\lib\\site-packages (from nltk) (4.63.0)\n",
      "Requirement already satisfied: importlib-metadata in c:\\users\\asus\\appdata\\local\\programs\\python\\python37\\lib\\site-packages (from click->nltk) (4.11.3)\n",
      "Requirement already satisfied: colorama in c:\\users\\asus\\appdata\\local\\programs\\python\\python37\\lib\\site-packages (from click->nltk) (0.4.4)\n",
      "Requirement already satisfied: typing-extensions>=3.6.4 in c:\\users\\asus\\appdata\\local\\programs\\python\\python37\\lib\\site-packages (from importlib-metadata->click->nltk) (4.4.0)\n",
      "Requirement already satisfied: zipp>=0.5 in c:\\users\\asus\\appdata\\local\\programs\\python\\python37\\lib\\site-packages (from importlib-metadata->click->nltk) (3.10.0)\n",
      "Installing collected packages: regex, nltk\n",
      "Successfully installed nltk-3.7 regex-2022.10.31\n",
      "Note: you may need to restart the kernel to use updated packages.\n"
     ]
    }
   ],
   "source": [
    "pip install nltk\n"
   ]
  },
  {
   "cell_type": "code",
   "execution_count": 7,
   "id": "0210dfd3",
   "metadata": {},
   "outputs": [
    {
     "data": {
      "text/plain": [
       "141218"
      ]
     },
     "execution_count": 7,
     "metadata": {},
     "output_type": "execute_result"
    }
   ],
   "source": [
    "len(story) #so in story there are 141218 sentences"
   ]
  },
  {
   "cell_type": "code",
   "execution_count": 11,
   "id": "4b5ea1eb",
   "metadata": {},
   "outputs": [],
   "source": [
    "# building the model\n",
    "model = gensim.models.Word2Vec( window= 10)\n",
    "model.build_vocab(story) #extracting the unique words from the corpus"
   ]
  },
  {
   "cell_type": "code",
   "execution_count": 12,
   "id": "a57df276",
   "metadata": {},
   "outputs": [
    {
     "data": {
      "text/plain": [
       "(6483043, 8628190)"
      ]
     },
     "execution_count": 12,
     "metadata": {},
     "output_type": "execute_result"
    }
   ],
   "source": [
    "model.train(story, total_examples = model.corpus_count, epochs = model.epochs)"
   ]
  },
  {
   "cell_type": "code",
   "execution_count": 13,
   "id": "a981292b",
   "metadata": {},
   "outputs": [
    {
     "data": {
      "text/plain": [
       "[('stormborn', 0.7901622653007507),\n",
       " ('unburnt', 0.7136874794960022),\n",
       " ('myrcella', 0.710243284702301),\n",
       " ('viserys', 0.6950995326042175),\n",
       " ('princess', 0.69374680519104),\n",
       " ('targaryen', 0.6926977038383484),\n",
       " ('queen', 0.6839140057563782),\n",
       " ('khaleesi', 0.6819291710853577),\n",
       " ('elia', 0.6735287308692932),\n",
       " ('dorne', 0.6453995108604431)]"
      ]
     },
     "execution_count": 13,
     "metadata": {},
     "output_type": "execute_result"
    }
   ],
   "source": [
    "model.wv.most_similar('daenerys')"
   ]
  },
  {
   "cell_type": "code",
   "execution_count": 14,
   "id": "a071c373",
   "metadata": {},
   "outputs": [
    {
     "data": {
      "text/plain": [
       "'jon'"
      ]
     },
     "execution_count": 14,
     "metadata": {},
     "output_type": "execute_result"
    }
   ],
   "source": [
    "model.wv.doesnt_match(['jon','rikon','robb'])"
   ]
  },
  {
   "cell_type": "code",
   "execution_count": 15,
   "id": "3bfb3660",
   "metadata": {},
   "outputs": [
    {
     "data": {
      "text/plain": [
       "array([-0.19868809,  0.05335623,  2.126287  , -1.5365715 ,  1.2018597 ,\n",
       "        0.89125115,  0.5421555 ,  0.9904888 , -2.6213343 , -0.08787708,\n",
       "       -2.1749015 , -0.18393604, -0.3955493 , -0.8652635 ,  1.9584521 ,\n",
       "       -0.73293173,  0.48684165,  2.2109392 , -0.9400444 , -1.3661897 ,\n",
       "        1.9936237 , -1.5031794 ,  0.7205693 ,  1.074815  , -1.4180661 ,\n",
       "       -1.1635545 ,  0.926397  ,  0.46032786, -0.1849347 ,  0.4488663 ,\n",
       "       -2.524293  , -1.6571509 ,  0.3314549 , -1.3773106 , -0.84740245,\n",
       "        0.41699916,  0.8280191 ,  0.7421907 ,  0.14503983, -0.6202445 ,\n",
       "       -0.9311008 , -1.3412586 ,  0.2956024 ,  1.5920026 ,  1.8911421 ,\n",
       "       -2.7851632 , -1.3356508 ,  0.66146636, -1.69173   , -0.1479125 ,\n",
       "       -0.26876923,  0.31336376,  3.2634819 , -1.5982639 ,  0.01771627,\n",
       "        0.1330893 , -0.19208588, -1.8464489 ,  0.81661475, -0.90068614,\n",
       "       -0.5473062 ,  2.8735874 ,  0.6993886 , -1.0680829 ,  0.64187604,\n",
       "       -0.6067509 ,  1.231837  ,  2.2489586 ,  0.07188807,  0.0365331 ,\n",
       "        1.0745822 , -0.09842176, -2.0618534 , -0.60093546,  1.5719056 ,\n",
       "        2.6006176 , -0.8827774 ,  3.0277276 , -0.22484413, -0.8366361 ,\n",
       "       -0.63639927, -1.8385768 , -0.09178685, -0.16820164, -2.5183606 ,\n",
       "        1.8908284 , -0.10093749, -0.77157295,  0.3662006 , -2.1330836 ,\n",
       "       -1.7081991 ,  1.6502624 , -0.12752002, -0.7503934 , -0.3398401 ,\n",
       "       -1.8776835 , -1.2250497 , -1.3634183 , -0.5395308 , -0.27965096],\n",
       "      dtype=float32)"
      ]
     },
     "execution_count": 15,
     "metadata": {},
     "output_type": "execute_result"
    }
   ],
   "source": [
    "model.wv['jon']"
   ]
  },
  {
   "cell_type": "code",
   "execution_count": null,
   "id": "5489e499",
   "metadata": {},
   "outputs": [],
   "source": []
  }
 ],
 "metadata": {
  "kernelspec": {
   "display_name": "Python 3 (ipykernel)",
   "language": "python",
   "name": "python3"
  },
  "language_info": {
   "codemirror_mode": {
    "name": "ipython",
    "version": 3
   },
   "file_extension": ".py",
   "mimetype": "text/x-python",
   "name": "python",
   "nbconvert_exporter": "python",
   "pygments_lexer": "ipython3",
   "version": "3.7.9"
  }
 },
 "nbformat": 4,
 "nbformat_minor": 5
}
